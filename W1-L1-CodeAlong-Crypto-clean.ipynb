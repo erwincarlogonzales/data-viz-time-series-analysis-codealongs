{
 "cells": [
  {
   "cell_type": "markdown",
   "id": "25771c9c",
   "metadata": {},
   "source": [
    "# Wk18-Lecture01-CodeAlong: Preparing Time Series Data"
   ]
  },
  {
   "cell_type": "markdown",
   "id": "f20b0a55",
   "metadata": {},
   "source": [
    "## Learning Objectives"
   ]
  },
  {
   "cell_type": "markdown",
   "id": "df5eb627",
   "metadata": {},
   "source": [
    "- By the end of this CodeAlong, students will be able to:\n",
    "    - Create date time indices\n",
    "    - Resample at various frequencies\n",
    "    - Impute null values for time series \n",
    "    - Convert wide-form data to long-form\n",
    "    "
   ]
  },
  {
   "cell_type": "code",
   "execution_count": null,
   "id": "7dd25599",
   "metadata": {
    "ExecuteTime": {
     "end_time": "2023-08-22T19:11:46.070444Z",
     "start_time": "2023-08-22T19:11:44.805691Z"
    }
   },
   "outputs": [],
   "source": [
    "import pandas as pd\n",
    "import matplotlib.pyplot as plt\n",
    "import matplotlib.dates as mdates\n",
    "# import matplotlib.ticker as mticks\n",
    "\n",
    "import missingno as miss\n",
    "\n",
    "import seaborn as sns\n",
    "import numpy as np\n",
    "\n",
    "pd.set_option('display.float_format',lambda x:f\"{x:,.2f}\")"
   ]
  },
  {
   "cell_type": "code",
   "execution_count": null,
   "id": "7fc93259",
   "metadata": {
    "ExecuteTime": {
     "end_time": "2023-08-22T19:11:46.085406Z",
     "start_time": "2023-08-22T19:11:46.071472Z"
    }
   },
   "outputs": [],
   "source": [
    "sns.set_context('notebook', font_scale=0.9)\n",
    "plt.style.use(['ggplot'])"
   ]
  },
  {
   "cell_type": "code",
   "execution_count": null,
   "id": "62f836ca",
   "metadata": {
    "ExecuteTime": {
     "end_time": "2023-08-22T19:12:30.284532Z",
     "start_time": "2023-08-22T19:12:30.179512Z"
    }
   },
   "outputs": [],
   "source": [
    "crypto = pd.read_csv(\"Data/stocks/wide-form-crypto.csv\")\n",
    "crypto"
   ]
  },
  {
   "cell_type": "markdown",
   "id": "c2f34c35",
   "metadata": {},
   "source": [
    "# Working with Wide-Form Time Series Data (Regular Intervals)\n",
    "\n",
    "## <font color='blue'> Step 1 </font>: Convert datetime to One Column"
   ]
  },
  {
   "cell_type": "code",
   "execution_count": null,
   "id": "c79e5650",
   "metadata": {
    "ExecuteTime": {
     "end_time": "2023-08-22T19:12:30.299691Z",
     "start_time": "2023-08-22T19:12:30.286310Z"
    }
   },
   "outputs": [],
   "source": [
    "## First columns are id columns\n"
   ]
  },
  {
   "cell_type": "code",
   "execution_count": null,
   "id": "6b74af60",
   "metadata": {
    "ExecuteTime": {
     "end_time": "2023-08-22T19:12:30.315634Z",
     "start_time": "2023-08-22T19:12:30.300676Z"
    }
   },
   "outputs": [],
   "source": [
    "## Melt the crypto data \n"
   ]
  },
  {
   "cell_type": "markdown",
   "id": "31a37645-9d54-45a8-b48d-27df4e0dc9c5",
   "metadata": {},
   "source": [
    "## <font color='blue'> Step 2: </font> Convert Datetime column to <font color='green'> datetime </font> type with <font color='green'> pd.to_datetime </font>"
   ]
  },
  {
   "cell_type": "markdown",
   "id": "7d5b5d35-bb58-4b94-92ab-a9c7ae70e070",
   "metadata": {},
   "source": [
    "## Using pd.to_datetime with strftime codes!\n",
    "\n",
    "- Datetime objects have a `.strftime()` method (string-format-time)\n",
    "\n",
    "- 📖 **strftime cheat sheet: https://strftime.org/**\n",
    "- 📖 **Official Table of Python datetime format codes: https://docs.python.org/3/library/datetime.html#strftime-and-strptime-format-codes **\n",
    "\n",
    "\n",
    "| Directive   | Meaning                                                                                                                                                                          | Example                                                                      |\n",
    "|:------------|:---------------------------------------------------------------------------------------------------------------------------------------------------------------------------------|:-----------------------------------------------------------------------------|\n",
    "| %a          | Weekday as locale’s abbreviated name.                                                                                                                                            | Sun, Mon, …, Sat (en_US); So, Mo, …, Sa (de_DE)                              |\n",
    "| %A          | Weekday as locale’s full name.                                                                                                                                                   | Sunday, Monday, …, Saturday (en_US); Sonntag, Montag, …, Samstag (de_DE)     |\n",
    "| %w          | Weekday as a decimal number, where 0 is Sunday and 6 is Saturday.                                                                                                                | 0, 1, …, 6                                                                   |\n",
    "| %d          | Day of the month as a zero-padded decimal number.                                                                                                                                | 01, 02, …, 31                                                                |\n",
    "| %b          | Month as locale’s abbreviated name.                                                                                                                                              | Jan, Feb, …, Dec (en_US); Jan, Feb, …, Dez (de_DE)                           |\n",
    "| %B          | Month as locale’s full name.                                                                                                                                                     | January, February, …, December (en_US); Januar, Februar, …, Dezember (de_DE) |\n",
    "| %m          | Month as a zero-padded decimal number.                                                                                                                                           | 01, 02, …, 12                                                                |\n",
    "| %y          | Year without century as a zero-padded decimal number.                                                                                                                            | 00, 01, …, 99                                                                |\n",
    "| %Y          | Year with century as a decimal number.                                                                                                                                           | 0001, 0002, …, 2013, 2014, …, 9998, 9999                                     |\n",
    "| %H          | Hour (24-hour clock) as a zero-padded decimal number.                                                                                                                            | 00, 01, …, 23                                                                |\n",
    "| %I          | Hour (12-hour clock) as a zero-padded decimal number.                                                                                                                            | 01, 02, …, 12                                                                |\n",
    "| %p          | Locale’s equivalent of either AM or PM.                                                                                                                                          | AM, PM (en_US); am, pm (de_DE)                                               |\n",
    "| %M          | Minute as a zero-padded decimal number.                                                                                                                                          | 00, 01, …, 59                                                                |\n",
    "| %S          | Second as a zero-padded decimal number.                                                                                                                                          | 00, 01, …, 59                                                                |\n",
    "| %f          | Microsecond as a decimal number, zero-padded to 6 digits.                                                                                                                        | 000000, 000001, …, 999999                                                    |\n",
    "| %z          | UTC offset in the form ±HHMM[SS[.ffffff]] (empty string if the object is naive).                                                                                                 | (empty), +0000, -0400, +1030, +063415, -030712.345216                        |\n",
    "| %Z          | Time zone name (empty string if the object is naive).                                                                                                                            | (empty), UTC, GMT                                                            |\n",
    "| %j          | Day of the year as a zero-padded decimal number.                                                                                                                                 | 001, 002, …, 366                                                             |\n",
    "| %U          | Week number of the year (Sunday as the first day of the week) as a zero-padded decimal number. All days in a new year preceding the first Sunday are considered to be in week 0. | 00, 01, …, 53                                                                |\n",
    "| %W          | Week number of the year (Monday as the first day of the week) as a zero-padded decimal number. All days in a new year preceding the first Monday are considered to be in week 0. | 00, 01, …, 53                                                                |\n",
    "| %c          | Locale’s appropriate date and time representation.                                                                                                                               | Tue Aug 16 21:30:00 1988 (en_US); Di 16 Aug 21:30:00 1988 (de_DE)            |\n",
    "| %x          | Locale’s appropriate date representation.                                                                                                                                        | 08/16/88 (None); 08/16/1988 (en_US); 16.08.1988 (de_DE)                      |\n",
    "| %X          | Locale’s appropriate time representation.                                                                                                                                        | 21:30:00 (en_US); 21:30:00 (de_DE)                                           |\n",
    "| %%          | A literal '%' character.                                                                                                                                                         | %                                                                            |"
   ]
  },
  {
   "cell_type": "code",
   "execution_count": null,
   "id": "564112b7-4826-442f-aee0-b6417d088dd7",
   "metadata": {},
   "outputs": [],
   "source": [
    "## Compare to dates in dataframe\n",
    "long_crypto['Date'][0]"
   ]
  },
  {
   "cell_type": "code",
   "execution_count": null,
   "id": "e2774ef9-09fb-4054-aa77-e49d65ae4bb2",
   "metadata": {
    "ExecuteTime": {
     "end_time": "2023-08-22T19:12:23.326808Z",
     "start_time": "2023-08-22T19:12:23.312845Z"
    }
   },
   "outputs": [],
   "source": [
    "## Creating/testing our time format\n",
    "import datetime\n",
    "today_datetime = datetime.datetime.today()\n",
    "\n",
    "fmt = ## strftime code\n",
    "today_datetime.strftime(fmt)"
   ]
  },
  {
   "cell_type": "markdown",
   "id": "98e0e943-412e-4a26-bd58-3e50a3a19aee",
   "metadata": {},
   "source": [
    "- We can speed up the conversion by specifying the correct time format and setting `infer_datetime_format=False`"
   ]
  },
  {
   "cell_type": "code",
   "execution_count": null,
   "id": "fa93570b-c657-4597-84f6-49c50745c1b5",
   "metadata": {},
   "outputs": [],
   "source": [
    "## Use the fmt to convert datetime type\n"
   ]
  },
  {
   "cell_type": "markdown",
   "id": "ad52a946",
   "metadata": {},
   "source": [
    "## <font color='blue'> Step 3: </font> Set datetime as Index"
   ]
  },
  {
   "cell_type": "code",
   "execution_count": null,
   "id": "f0a901b4",
   "metadata": {
    "ExecuteTime": {
     "end_time": "2023-08-22T19:12:30.347008Z",
     "start_time": "2023-08-22T19:12:30.332589Z"
    }
   },
   "outputs": [],
   "source": [
    "## Set Date as index\n"
   ]
  },
  {
   "cell_type": "code",
   "execution_count": 3,
   "id": "615c84eb",
   "metadata": {
    "ExecuteTime": {
     "end_time": "2023-08-22T19:12:30.362012Z",
     "start_time": "2023-08-22T19:12:30.348006Z"
    }
   },
   "outputs": [],
   "source": [
    "## Check index\n"
   ]
  },
  {
   "cell_type": "markdown",
   "id": "244b0397-7eeb-4630-b946-9da341a92eab",
   "metadata": {},
   "source": [
    "## Example Slicing with Datetime Index <font color='red'> Super Powers!"
   ]
  },
  {
   "cell_type": "code",
   "execution_count": null,
   "id": "b62a0ea4-3334-4277-a2be-37d7dd5a526c",
   "metadata": {},
   "outputs": [],
   "source": [
    "## Slice One Year:\n"
   ]
  },
  {
   "cell_type": "code",
   "execution_count": null,
   "id": "df8fabaf-70d8-4272-b06f-af47e7883ec1",
   "metadata": {},
   "outputs": [],
   "source": [
    "## Slice One Month\n"
   ]
  },
  {
   "cell_type": "code",
   "execution_count": null,
   "id": "0e257650-fac0-49ed-9d42-5643840bf7e3",
   "metadata": {},
   "outputs": [],
   "source": [
    "## Slice One day and two columns\n"
   ]
  },
  {
   "cell_type": "code",
   "execution_count": null,
   "id": "890600a2-20ec-43c0-b6b6-a2e2935d976f",
   "metadata": {},
   "outputs": [],
   "source": [
    "## Slice Range of Dates\n"
   ]
  },
  {
   "cell_type": "markdown",
   "id": "fb490339",
   "metadata": {},
   "source": [
    "## <font color='blue'> Step 4: </font> Resample to Desired Frequency"
   ]
  },
  {
   "cell_type": "markdown",
   "id": "a80ccbce-ae16-469d-81d5-843a7e23f008",
   "metadata": {},
   "source": [
    "### Pandas Frequency Codes\n",
    "\n",
    "![pandas frequency codes](../pandas_freq_cheatsheet.png)"
   ]
  },
  {
   "cell_type": "markdown",
   "id": "f0bcac5d-aa72-4357-8380-c14b2fea45ff",
   "metadata": {},
   "source": [
    "### Grouping and resampling in one step!"
   ]
  },
  {
   "cell_type": "code",
   "execution_count": null,
   "id": "0bade8a7",
   "metadata": {
    "ExecuteTime": {
     "end_time": "2023-08-22T19:12:30.392409Z",
     "start_time": "2023-08-22T19:12:30.363009Z"
    }
   },
   "outputs": [],
   "source": [
    "# Group by currency and resample as daily. Keep only 'Value' column\n",
    "crypto_ts = \"\" ## group and resample\n",
    "crypto_ts"
   ]
  },
  {
   "cell_type": "code",
   "execution_count": null,
   "id": "a9da0637",
   "metadata": {
    "ExecuteTime": {
     "end_time": "2023-08-22T19:12:30.408573Z",
     "start_time": "2023-08-22T19:12:30.393438Z"
    }
   },
   "outputs": [],
   "source": [
    "## Check type\n"
   ]
  },
  {
   "cell_type": "code",
   "execution_count": null,
   "id": "399ce6da",
   "metadata": {
    "ExecuteTime": {
     "end_time": "2023-08-22T19:12:30.424242Z",
     "start_time": "2023-08-22T19:12:30.409520Z"
    }
   },
   "outputs": [],
   "source": [
    "## Check index\n"
   ]
  },
  {
   "cell_type": "code",
   "execution_count": null,
   "id": "ffeda3c7",
   "metadata": {
    "ExecuteTime": {
     "end_time": "2023-08-22T19:12:30.610540Z",
     "start_time": "2023-08-22T19:12:30.425223Z"
    }
   },
   "outputs": [],
   "source": [
    "## Plot data\n"
   ]
  },
  {
   "cell_type": "markdown",
   "id": "a4357b31",
   "metadata": {},
   "source": [
    "> What are we seeing?"
   ]
  },
  {
   "cell_type": "code",
   "execution_count": null,
   "id": "fcc1af99",
   "metadata": {
    "ExecuteTime": {
     "end_time": "2023-08-22T19:12:30.625768Z",
     "start_time": "2023-08-22T19:12:30.611746Z"
    }
   },
   "outputs": [],
   "source": [
    "## Check data again\n"
   ]
  },
  {
   "cell_type": "code",
   "execution_count": null,
   "id": "b4fa9bb0",
   "metadata": {
    "ExecuteTime": {
     "end_time": "2023-08-22T19:12:30.641793Z",
     "start_time": "2023-08-22T19:12:30.626812Z"
    }
   },
   "outputs": [],
   "source": [
    "## Unstack the data\n",
    "crypto_unstacked = \"\" ## unstack \n",
    "crypto_unstacked"
   ]
  },
  {
   "cell_type": "code",
   "execution_count": null,
   "id": "9acd79fb",
   "metadata": {
    "ExecuteTime": {
     "end_time": "2023-08-22T19:12:30.960017Z",
     "start_time": "2023-08-22T19:12:30.642787Z"
    }
   },
   "outputs": [],
   "source": [
    "## Plot unstacked data\n"
   ]
  },
  {
   "cell_type": "markdown",
   "id": "0067e0c9-a619-4cfc-a197-967870569470",
   "metadata": {},
   "source": [
    "# Changing matplotlib default plot size"
   ]
  },
  {
   "cell_type": "code",
   "execution_count": null,
   "id": "9444a2d6-8232-41b5-8aec-f2aa37df8d1b",
   "metadata": {},
   "outputs": [],
   "source": [
    "## Check current Default\n"
   ]
  },
  {
   "cell_type": "code",
   "execution_count": null,
   "id": "47f330e4-cd35-48e9-a539-96055b9fadb4",
   "metadata": {},
   "outputs": [],
   "source": [
    "## Change default to be wider\n"
   ]
  },
  {
   "cell_type": "code",
   "execution_count": null,
   "id": "eae46838-323d-4a8e-a9f5-10d67cde5cb7",
   "metadata": {},
   "outputs": [],
   "source": [
    "## Try plotting again\n"
   ]
  },
  {
   "cell_type": "markdown",
   "id": "da572491",
   "metadata": {},
   "source": [
    "## Selecting our TS for Resampling Demonstration\n",
    "\n",
    "We are going to clice out the data for `Bitcoin` during 2021 and 2022"
   ]
  },
  {
   "cell_type": "code",
   "execution_count": null,
   "id": "03d9746a",
   "metadata": {
    "ExecuteTime": {
     "end_time": "2023-08-22T19:12:30.975340Z",
     "start_time": "2023-08-22T19:12:30.961017Z"
    }
   },
   "outputs": [],
   "source": [
    "## Slice out 2021 and 2022 Bitcoin data\n",
    "ts = '' ## Slice\n",
    "ts"
   ]
  },
  {
   "cell_type": "code",
   "execution_count": null,
   "id": "8dc8b9e9",
   "metadata": {
    "ExecuteTime": {
     "end_time": "2023-08-22T19:12:31.178432Z",
     "start_time": "2023-08-22T19:12:30.976289Z"
    }
   },
   "outputs": [],
   "source": [
    "## Plot new ts data\n"
   ]
  },
  {
   "cell_type": "markdown",
   "id": "a4020d95",
   "metadata": {},
   "source": [
    "## Resampling"
   ]
  },
  {
   "cell_type": "code",
   "execution_count": null,
   "id": "c55e4a0c",
   "metadata": {
    "ExecuteTime": {
     "end_time": "2023-08-22T19:12:31.193322Z",
     "start_time": "2023-08-22T19:12:31.179398Z"
    }
   },
   "outputs": [],
   "source": [
    "## Check the index to confirm the current freq\n"
   ]
  },
  {
   "cell_type": "markdown",
   "id": "0e018276",
   "metadata": {},
   "source": [
    ">It looks like we have minute-resolution data (frequency = minutes)."
   ]
  },
  {
   "cell_type": "markdown",
   "id": "fde6578f",
   "metadata": {},
   "source": [
    "### Resample as Weeks Frequency"
   ]
  },
  {
   "cell_type": "code",
   "execution_count": null,
   "id": "9be4fee3",
   "metadata": {
    "ExecuteTime": {
     "end_time": "2023-08-22T19:12:31.208203Z",
     "start_time": "2023-08-22T19:12:31.194221Z"
    }
   },
   "outputs": [],
   "source": [
    "## Resample as weekly using correct freq code and use .asfreq as agg emthod\n",
    "ts_W = '' ## resample\n",
    "ts_W"
   ]
  },
  {
   "cell_type": "code",
   "execution_count": null,
   "id": "3d05ee3f",
   "metadata": {
    "ExecuteTime": {
     "end_time": "2023-08-22T19:12:31.223337Z",
     "start_time": "2023-08-22T19:12:31.209211Z"
    }
   },
   "outputs": [],
   "source": [
    "## Check index for frequency\n"
   ]
  },
  {
   "cell_type": "code",
   "execution_count": null,
   "id": "8b0e91a4-344c-40a4-8571-12db46d92e05",
   "metadata": {},
   "outputs": [],
   "source": [
    "## Plot the weekly data\n"
   ]
  },
  {
   "cell_type": "markdown",
   "id": "b642ec0d",
   "metadata": {},
   "source": [
    "### Let's resample and plot our ts as daily, weekly, and monthly to compare."
   ]
  },
  {
   "cell_type": "code",
   "execution_count": null,
   "id": "2bf28673",
   "metadata": {
    "ExecuteTime": {
     "end_time": "2023-08-22T19:12:32.333342Z",
     "start_time": "2023-08-22T19:12:31.224370Z"
    }
   },
   "outputs": [],
   "source": [
    "freqs = ['D','W','M','Q','A']\n",
    "\n",
    "\n",
    "for freq in freqs:\n",
    "    ax = ts.plot(label='Original',  style='.-',\n",
    "            title=f'Comparing Resampled Frequencies: {freq}');\n",
    "\n",
    "    ts_temp = ts.resample(freq).last()\n",
    "    ts_temp.plot(style='.-', label=freq,ax=ax)\n",
    "    plt.legend()\n",
    "    plt.show()"
   ]
  },
  {
   "cell_type": "markdown",
   "id": "72df50c0-9e06-46af-aa43-6080e2aec727",
   "metadata": {},
   "source": [
    "# <font color='blue'> Step 5 </font> Impute as Needed"
   ]
  },
  {
   "cell_type": "markdown",
   "id": "c673cd71-6b47-48ce-9622-84c3e1469f50",
   "metadata": {},
   "source": [
    "There are no missing values currently, but let's make some and the impute them."
   ]
  },
  {
   "cell_type": "code",
   "execution_count": null,
   "id": "6d276ecd-b6ff-4b0f-ab8e-ab8484f1352b",
   "metadata": {},
   "outputs": [],
   "source": [
    "## Make a copy of the unstacked data\n",
    "missing = ''\n",
    "\n",
    "## Replace all 2020 values with nans\n",
    "\n",
    "## Plot results\n"
   ]
  },
  {
   "cell_type": "markdown",
   "id": "996e2f4c-d5d4-4ff5-91f1-6f0024241827",
   "metadata": {},
   "source": [
    "### Forward Fill"
   ]
  },
  {
   "cell_type": "code",
   "execution_count": null,
   "id": "609ba559-90de-4eb9-83ed-ddf20a503ec8",
   "metadata": {},
   "outputs": [],
   "source": [
    "## Forward Fill missing values\n",
    "missing_ff = ''\n",
    "\n",
    "## Plot results\n"
   ]
  },
  {
   "cell_type": "markdown",
   "id": "261b0698-9e18-42b4-91da-d31a921693e2",
   "metadata": {},
   "source": [
    "### Back Fill"
   ]
  },
  {
   "cell_type": "code",
   "execution_count": null,
   "id": "69ca03be-ceb5-461d-b742-7abd5b09b924",
   "metadata": {},
   "outputs": [],
   "source": [
    "## Back fill missing values\n",
    "missing_bf = ''\n",
    "\n",
    "## Plot results\n"
   ]
  },
  {
   "cell_type": "markdown",
   "id": "fbdf639b-027b-4ad0-be05-5f12af3c7cc4",
   "metadata": {},
   "source": [
    "### Interpolate"
   ]
  },
  {
   "cell_type": "code",
   "execution_count": null,
   "id": "038cc526-d459-4a79-9689-371b0fac9a52",
   "metadata": {},
   "outputs": [],
   "source": [
    "## interpolate missing values\n",
    "missing_interp = ''\n",
    "\n",
    "## plot results\n"
   ]
  },
  {
   "cell_type": "markdown",
   "id": "f33851ce",
   "metadata": {},
   "source": [
    "# Save the processed and unstacked data"
   ]
  },
  {
   "cell_type": "code",
   "execution_count": null,
   "id": "3e9e7f32",
   "metadata": {
    "ExecuteTime": {
     "end_time": "2023-08-22T19:12:32.348992Z",
     "start_time": "2023-08-22T19:12:32.334310Z"
    }
   },
   "outputs": [],
   "source": [
    "import os\n",
    "\n",
    "## Make a new folder to save data\n",
    "folder = \"Data/FromClass/\"\n",
    "os.makedirs(folder, exist_ok=True)"
   ]
  },
  {
   "cell_type": "code",
   "execution_count": null,
   "id": "31a6be54",
   "metadata": {
    "ExecuteTime": {
     "end_time": "2023-08-22T19:12:33.695098Z",
     "start_time": "2023-08-22T19:12:33.665081Z"
    }
   },
   "outputs": [],
   "source": [
    "## Save the unstacked data\n",
    "crypto_unstacked.to_csv(folder + 'crypto_currencies.csv')"
   ]
  },
  {
   "cell_type": "markdown",
   "id": "cd5665a5",
   "metadata": {},
   "source": [
    "# Appendix: Using Tick Date Formatters/Locators"
   ]
  },
  {
   "cell_type": "markdown",
   "id": "c1a1b934",
   "metadata": {},
   "source": [
    "- Let's add a minor xtick every 3 months."
   ]
  },
  {
   "cell_type": "code",
   "execution_count": null,
   "id": "464e20d6",
   "metadata": {
    "ExecuteTime": {
     "end_time": "2023-08-22T19:12:33.710315Z",
     "start_time": "2023-08-22T19:12:33.696077Z"
    }
   },
   "outputs": [],
   "source": [
    "import matplotlib.dates as mdates"
   ]
  },
  {
   "cell_type": "code",
   "execution_count": null,
   "id": "742ff38b",
   "metadata": {
    "ExecuteTime": {
     "end_time": "2023-08-22T19:12:33.726496Z",
     "start_time": "2023-08-22T19:12:33.711317Z"
    }
   },
   "outputs": [],
   "source": [
    "## CREATE ARTISTS FOR MAJOR XTICKS (Years)\n",
    "# Create a year locator\n",
    "loc_major_yr = mdates.YearLocator()\n",
    "# Create a year formatter using 4-digit years\n",
    "fmt_major_yr = mdates.DateFormatter(\"%Y\")\n",
    "\n",
    "\n",
    "## CREATE ARTISTS FOR MINOR XTICKS ( Months)\n",
    "# Create a month locator that will add months at 1,4,7,10\n",
    "loc_minor_3m = mdates.MonthLocator(bymonth=[1,4,7,10])\n",
    "# Createa monthnformatter that will use 3-letter month names\n",
    "fmt_minor_3m = mdates.DateFormatter(\"%b\")"
   ]
  },
  {
   "cell_type": "code",
   "execution_count": null,
   "id": "185ccc7d",
   "metadata": {
    "ExecuteTime": {
     "end_time": "2023-08-22T19:12:35.529819Z",
     "start_time": "2023-08-22T19:12:33.727494Z"
    }
   },
   "outputs": [],
   "source": [
    "## Create our plot and save the ax\n",
    "fig, ax = plt.subplots()\n",
    "ax.plot(crypto_unstacked)\n",
    "\n",
    "# ax = crypto_unstacked.plot()\n",
    "ax.set(ylabel=\"Value\", title='Crypto Coins')\n",
    "\n",
    "# Set xaxis major locator/formatter\n",
    "ax.xaxis.set_major_locator(loc_major_yr)\n",
    "ax.xaxis.set_major_formatter(fmt_major_yr)\n",
    "\n",
    "\n",
    "# Set xaxis minor locator/formatter\n",
    "ax.xaxis.set_minor_locator(loc_minor_3m)\n",
    "ax.xaxis.set_minor_formatter(fmt_minor_3m)"
   ]
  },
  {
   "cell_type": "code",
   "execution_count": null,
   "id": "4d8c70a8",
   "metadata": {
    "ExecuteTime": {
     "end_time": "2023-08-22T19:12:37.366706Z",
     "start_time": "2023-08-22T19:12:35.530788Z"
    }
   },
   "outputs": [],
   "source": [
    "## Create our plot and save the ax\n",
    "fig, ax = plt.subplots()\n",
    "ax.plot(crypto_unstacked)\n",
    "\n",
    "# Set the labels and title\n",
    "ax.set(ylabel=\"Value\", title='Crypto Coins')\n",
    "\n",
    "# Set xaxis major locator/formatter\n",
    "ax.xaxis.set_major_locator(loc_major_yr)\n",
    "ax.xaxis.set_major_formatter(fmt_major_yr)\n",
    "\n",
    "\n",
    "# Set xaxis minor locator/formatter\n",
    "ax.xaxis.set_minor_locator(loc_minor_3m)\n",
    "ax.xaxis.set_minor_formatter(fmt_minor_3m)\n",
    "\n",
    "\n",
    "\n",
    "# Add gridlines for major xaxis ticks\n",
    "ax.grid(which='major',axis='x',color='k',ls=':',lw=1)\n",
    "\n",
    "## Rotate the major tick years using fig.autofmt_xdate\n",
    "fig = ax.get_figure()\n",
    "fig.autofmt_xdate(which='major', rotation=90,ha='center')"
   ]
  },
  {
   "cell_type": "code",
   "execution_count": null,
   "id": "6c416a03",
   "metadata": {
    "ExecuteTime": {
     "end_time": "2023-08-22T19:12:37.381845Z",
     "start_time": "2023-08-22T19:12:37.367701Z"
    }
   },
   "outputs": [],
   "source": [
    "def format_xdates(ax):\n",
    "    \n",
    "    # Create a year locator\n",
    "    loc_major_yr = mdates.YearLocator()\n",
    "    # Create a year formatter using 4-digit years\n",
    "    fmt_major_yr = mdates.DateFormatter(\"%Y\")\n",
    "\n",
    "\n",
    "    # Create a month locator that will add months at 1,4,7,10\n",
    "    loc_minor_3m = mdates.MonthLocator(bymonth=[1,4,7,10])\n",
    "    # Createa monthnformatter that will use 3-letter month names\n",
    "    fmt_minor_3m = mdates.DateFormatter(\"%b\")\n",
    "    \n",
    "\n",
    "    \n",
    "    # Set xaxis major locator/formatter\n",
    "    ax.xaxis.set_major_locator(loc_major_yr)\n",
    "    ax.xaxis.set_major_formatter(fmt_major_yr)\n",
    "\n",
    "\n",
    "    # Set xaxis minor locator/formatter\n",
    "    ax.xaxis.set_minor_locator(loc_minor_3m)\n",
    "    ax.xaxis.set_minor_formatter(fmt_minor_3m)\n",
    "\n",
    "    \n",
    "\n",
    "    # Add gridlines for major xaxis ticks\n",
    "    ax.grid(which='major',axis='x',color='k',ls=':',lw=1)\n",
    "\n",
    "    ## Rotate the major tick years using fig.autofmt_xdate\n",
    "    fig = ax.get_figure()\n",
    "    fig.autofmt_xdate(which='major', rotation=90,ha='center')\n",
    "    return fig\n"
   ]
  },
  {
   "cell_type": "code",
   "execution_count": null,
   "id": "01b8691e",
   "metadata": {
    "ExecuteTime": {
     "end_time": "2023-08-22T19:12:39.265419Z",
     "start_time": "2023-08-22T19:12:37.382847Z"
    }
   },
   "outputs": [],
   "source": [
    "## Create the figure and axis\n",
    "fig, ax = plt.subplots()\n",
    "\n",
    "## Format the xticks\n",
    "format_xdates(ax)\n",
    "ax.set_title('Crypto Coins')\n",
    "ax.set_ylabel('Value')\n",
    "## Plot the data\n",
    "ax.plot(crypto_unstacked);"
   ]
  }
 ],
 "metadata": {
  "kernelspec": {
   "display_name": "Python (dojo-env)",
   "language": "python",
   "name": "dojo-env"
  },
  "language_info": {
   "codemirror_mode": {
    "name": "ipython",
    "version": 3
   },
   "file_extension": ".py",
   "mimetype": "text/x-python",
   "name": "python",
   "nbconvert_exporter": "python",
   "pygments_lexer": "ipython3",
   "version": "3.10.10"
  },
  "toc": {
   "base_numbering": 1,
   "nav_menu": {},
   "number_sections": false,
   "sideBar": true,
   "skip_h1_title": false,
   "title_cell": "Table of Contents",
   "title_sidebar": "Contents",
   "toc_cell": false,
   "toc_position": {
    "height": "calc(100% - 180px)",
    "left": "10px",
    "top": "150px",
    "width": "244.361px"
   },
   "toc_section_display": true,
   "toc_window_display": false
  },
  "widgets": {
   "application/vnd.jupyter.widget-state+json": {
    "state": {},
    "version_major": 2,
    "version_minor": 0
   }
  }
 },
 "nbformat": 4,
 "nbformat_minor": 5
}
