{
 "cells": [
  {
   "cell_type": "markdown",
   "id": "bc021ffa",
   "metadata": {},
   "source": [
    "# Wk18 Lecture02 CodeAlong: UFOs"
   ]
  },
  {
   "cell_type": "markdown",
   "id": "f20b0a55",
   "metadata": {},
   "source": [
    "## Learning Objectives"
   ]
  },
  {
   "cell_type": "markdown",
   "id": "df5eb627",
   "metadata": {},
   "source": [
    "- By the end of this CodeAlong, students will be able to:\n",
    "   - Calculate time series statistics (rolling mean/std/diff/pct_change\n",
    "\n",
    "    "
   ]
  },
  {
   "cell_type": "markdown",
   "id": "f3202236",
   "metadata": {},
   "source": [
    "# 🕹️Part 1) Preparing Irregular-Interval Time Series"
   ]
  },
  {
   "cell_type": "markdown",
   "id": "60721cfc",
   "metadata": {},
   "source": [
    "### Overview from Last Lecture"
   ]
  },
  {
   "cell_type": "markdown",
   "id": "29c7c4cf",
   "metadata": {},
   "source": [
    "- 1) [ ] Convert the dates & times to a single column (if needed).\n",
    "- 2) [ ] Convert the datetime column  (most likely a string) to a datetime data type.\n",
    "- 3) [ ] Set the datetime column as the Series/DataFrame index\n",
    "- 4) [ ] Resample the time series to the desired/correct frequency using the desired/correct aggregation method.\n",
    "- 5) [ ] Impute null values (if required)\n"
   ]
  },
  {
   "cell_type": "markdown",
   "id": "aa1faf78",
   "metadata": {},
   "source": [
    "### UFO Sightings"
   ]
  },
  {
   "cell_type": "markdown",
   "id": "8336237c",
   "metadata": {},
   "source": [
    "- UFO Sightings: https://www.kaggle.com/datasets/NUFORC/ufo-sightings "
   ]
  },
  {
   "cell_type": "code",
   "execution_count": null,
   "id": "7dd25599",
   "metadata": {
    "ExecuteTime": {
     "end_time": "2023-08-24T22:43:25.627504Z",
     "start_time": "2023-08-24T22:43:24.182627Z"
    }
   },
   "outputs": [],
   "source": [
    "import pandas as pd\n",
    "import numpy as np\n",
    "import matplotlib.pyplot as plt\n",
    "import matplotlib.dates as mdates\n",
    "import matplotlib.ticker as mticks\n",
    "import seaborn as sns\n",
    "\n",
    "\n",
    "import missingno as miss\n",
    "import datetime as dt\n",
    "import statsmodels.tsa.api as tsa"
   ]
  },
  {
   "cell_type": "code",
   "execution_count": null,
   "id": "264ae028",
   "metadata": {
    "ExecuteTime": {
     "end_time": "2023-08-24T22:43:25.846493Z",
     "start_time": "2023-08-24T22:43:25.628526Z"
    }
   },
   "outputs": [],
   "source": [
    "ufo  = pd.read_csv(\"Data/ufos-kaggle/scrubbed.csv\", low_memory=False)\n",
    "ufo"
   ]
  },
  {
   "cell_type": "code",
   "execution_count": null,
   "id": "12924d81",
   "metadata": {
    "ExecuteTime": {
     "end_time": "2023-08-24T22:43:25.925597Z",
     "start_time": "2023-08-24T22:43:25.847412Z"
    }
   },
   "outputs": [],
   "source": [
    "ufo.info()"
   ]
  },
  {
   "cell_type": "markdown",
   "id": "b742c5c1",
   "metadata": {},
   "source": [
    ">- 1) [x] Convert the dates & times to a single column (if needed)."
   ]
  },
  {
   "cell_type": "markdown",
   "id": "d28fa993",
   "metadata": {},
   "source": [
    "## Preparing the Datetime Index"
   ]
  },
  {
   "cell_type": "markdown",
   "id": "2b38064f",
   "metadata": {},
   "source": [
    "## 1. All Dates and Times in One Row:\n",
    "\n",
    "This is already true here; nothing to change."
   ]
  },
  {
   "cell_type": "markdown",
   "id": "a00469c1",
   "metadata": {},
   "source": [
    "## 2. Converting Date Cols to Datetime"
   ]
  },
  {
   "cell_type": "code",
   "execution_count": null,
   "id": "682da0a9",
   "metadata": {
    "ExecuteTime": {
     "end_time": "2023-08-24T22:43:25.941553Z",
     "start_time": "2023-08-24T22:43:25.930583Z"
    }
   },
   "outputs": [],
   "source": [
    "## Investigate the date format\n",
    "ufo.loc[0,'datetime']"
   ]
  },
  {
   "cell_type": "code",
   "execution_count": null,
   "id": "e632e302",
   "metadata": {
    "ExecuteTime": {
     "end_time": "2023-08-24T22:43:25.957511Z",
     "start_time": "2023-08-24T22:43:25.943548Z"
    }
   },
   "outputs": [],
   "source": [
    "## Set the date format\n",
    "fmt = '%m/%d/%Y %H:%M'"
   ]
  },
  {
   "cell_type": "code",
   "execution_count": null,
   "id": "dd1c07ac",
   "metadata": {
    "ExecuteTime": {
     "end_time": "2023-08-24T22:43:26.603935Z",
     "start_time": "2023-08-24T22:43:25.958509Z"
    }
   },
   "outputs": [],
   "source": [
    "## convert datetime to datetime\n",
    "ufo['datetime'] = pd.to_datetime(ufo['datetime'], format=fmt)"
   ]
  },
  {
   "cell_type": "markdown",
   "id": "67538565",
   "metadata": {},
   "source": [
    "### Handling Errors with pd.to_datetime"
   ]
  },
  {
   "cell_type": "markdown",
   "id": "d2e55b74",
   "metadata": {},
   "source": [
    "- Can use the `errors` argument for pd.to_datetime:\n",
    "    - \"raise\" (default): raise an exception when errors happen\n",
    "    - 'ignore': ignores the errors and returns the original value for that row. \n",
    "        - NOT RECOMMENDED: the entire column will not be datetime.\n",
    "    - 'coerce': convert any bad datetime values to null values (NaT - NotATime)"
   ]
  },
  {
   "cell_type": "markdown",
   "id": "d5ea5b07",
   "metadata": {},
   "source": [
    ">- **Branch point: we have a choice on how we deal with the bad timestamps.**\n",
    "    -  Do we coerce them, make then null values, and drop them? Potentially losing a lot of data.\n",
    "    - Or do we investigate a bit more to see if we can fix the problem without losing data.\n",
    "    \n",
    "    \n",
    "- Let's see how much data we would lose if we chose to coerce the bad values:"
   ]
  },
  {
   "cell_type": "code",
   "execution_count": null,
   "id": "2348ccaa",
   "metadata": {
    "ExecuteTime": {
     "end_time": "2023-08-24T22:43:33.634293Z",
     "start_time": "2023-08-24T22:43:33.550489Z"
    },
    "scrolled": true
   },
   "outputs": [],
   "source": [
    "##check nulls before coercing errors\n",
    "ufo.isna().sum()"
   ]
  },
  {
   "cell_type": "code",
   "execution_count": null,
   "id": "e4411fa6",
   "metadata": {
    "ExecuteTime": {
     "end_time": "2023-08-24T22:43:33.850147Z",
     "start_time": "2023-08-24T22:43:33.636259Z"
    }
   },
   "outputs": [],
   "source": [
    "## Check missing data after coerce\n",
    "coerced_dt = pd.to_datetime(ufo[\"datetime\"], format=fmt, errors='coerce')\n",
    "coerced_dt.isna().sum() / len(ufo)"
   ]
  },
  {
   "cell_type": "markdown",
   "id": "bfcd2a53",
   "metadata": {},
   "source": [
    "Should we drop the rows, or try to fix the times?"
   ]
  },
  {
   "cell_type": "code",
   "execution_count": null,
   "id": "a6d13418",
   "metadata": {
    "ExecuteTime": {
     "end_time": "2023-08-24T22:43:33.865108Z",
     "start_time": "2023-08-24T22:43:33.851145Z"
    }
   },
   "outputs": [],
   "source": [
    "## Drop the rows\n",
    "\n"
   ]
  },
  {
   "cell_type": "code",
   "execution_count": null,
   "id": "c3159cd4",
   "metadata": {
    "ExecuteTime": {
     "end_time": "2023-08-24T22:43:34.202505Z",
     "start_time": "2023-08-24T22:43:33.868101Z"
    }
   },
   "outputs": [],
   "source": [
    "## Fix the errors: \n",
    "\n"
   ]
  },
  {
   "cell_type": "markdown",
   "id": "d5c58dfe",
   "metadata": {},
   "source": [
    "## 3. Setting datetime index"
   ]
  },
  {
   "cell_type": "code",
   "execution_count": null,
   "id": "b461d84b",
   "metadata": {
    "ExecuteTime": {
     "end_time": "2023-08-24T22:43:34.234005Z",
     "start_time": "2023-08-24T22:43:34.203475Z"
    }
   },
   "outputs": [],
   "source": [
    "ufo_ts = ufo.set_index('datetime')\n",
    "ufo_ts"
   ]
  },
  {
   "cell_type": "code",
   "execution_count": null,
   "id": "a204d944",
   "metadata": {
    "ExecuteTime": {
     "end_time": "2023-08-24T22:43:34.249935Z",
     "start_time": "2023-08-24T22:43:34.235004Z"
    }
   },
   "outputs": [],
   "source": [
    "# check the index to confirm its datetime\n",
    "ufo_ts.index"
   ]
  },
  {
   "cell_type": "markdown",
   "id": "9c567112",
   "metadata": {},
   "source": [
    "- 3) [x] Set the datetime column as the Series/DataFrame index"
   ]
  },
  {
   "cell_type": "markdown",
   "id": "0d1c2594",
   "metadata": {},
   "source": [
    "## 4. Resampling\n",
    "\n",
    "What frequency should we use?\n",
    "\n",
    "### Let's Visualize Our Data"
   ]
  },
  {
   "cell_type": "code",
   "execution_count": null,
   "id": "e1e3e6b0",
   "metadata": {
    "ExecuteTime": {
     "end_time": "2023-08-24T22:43:34.930696Z",
     "start_time": "2023-08-24T22:43:34.250935Z"
    }
   },
   "outputs": [],
   "source": [
    "ufo_ts.plot()"
   ]
  },
  {
   "cell_type": "markdown",
   "id": "a2ecaabe",
   "metadata": {},
   "source": [
    "> Hmmmm.... what are we *trying* to visualize?\n",
    "\n"
   ]
  },
  {
   "cell_type": "markdown",
   "id": "5b4a0b46",
   "metadata": {},
   "source": [
    "### What do we really want to know about UFO's? \n",
    "- Duration of sighting?\n",
    "- Location of sighting?\n",
    "- Number of sightings?"
   ]
  },
  {
   "cell_type": "markdown",
   "id": "f9a04cec",
   "metadata": {},
   "source": [
    "## Timeseries of Number of Sightings"
   ]
  },
  {
   "cell_type": "markdown",
   "id": "a34f59b0",
   "metadata": {},
   "source": [
    "- We want to quantify the number of events that occurred within each interval.\n",
    "- What aggregratagor should we use?\n"
   ]
  },
  {
   "cell_type": "code",
   "execution_count": null,
   "id": "3173a553",
   "metadata": {
    "ExecuteTime": {
     "end_time": "2023-08-24T22:43:34.978787Z",
     "start_time": "2023-08-24T22:43:34.931693Z"
    }
   },
   "outputs": [],
   "source": [
    "## Resample as daily\n",
    "ts =  ##How to resample?\n",
    "ts.head()"
   ]
  },
  {
   "cell_type": "code",
   "execution_count": null,
   "id": "462ae029",
   "metadata": {
    "ExecuteTime": {
     "end_time": "2023-08-24T22:43:35.261719Z",
     "start_time": "2023-08-24T22:43:34.979700Z"
    }
   },
   "outputs": [],
   "source": [
    "ts.plot()"
   ]
  },
  {
   "cell_type": "code",
   "execution_count": null,
   "id": "16ff4572",
   "metadata": {
    "ExecuteTime": {
     "end_time": "2023-08-24T22:43:35.276682Z",
     "start_time": "2023-08-24T22:43:35.264714Z"
    }
   },
   "outputs": [],
   "source": [
    "## Change figsize\n",
    "plt.rcParams['figure.figsize'] = [10,5]"
   ]
  },
  {
   "cell_type": "code",
   "execution_count": null,
   "id": "03c0714d",
   "metadata": {
    "ExecuteTime": {
     "end_time": "2023-08-24T22:43:35.626119Z",
     "start_time": "2023-08-24T22:43:35.278678Z"
    }
   },
   "outputs": [],
   "source": [
    "## Plot again\n",
    "ts.plot();"
   ]
  },
  {
   "cell_type": "markdown",
   "id": "891a0c3c",
   "metadata": {},
   "source": [
    "Not much was happening before 1950.\n",
    "\n",
    "\n",
    "Let's keep data from 1950 to present day"
   ]
  },
  {
   "cell_type": "code",
   "execution_count": null,
   "id": "642c0036",
   "metadata": {
    "ExecuteTime": {
     "end_time": "2023-08-24T22:43:35.642091Z",
     "start_time": "2023-08-24T22:43:35.627147Z"
    }
   },
   "outputs": [],
   "source": [
    "ts = ts.loc[\"1950\":]\n",
    "ts"
   ]
  },
  {
   "cell_type": "markdown",
   "id": "f8aa3a90",
   "metadata": {},
   "source": [
    "# 🕹️Part 2) Time Series Analysis: Statistics"
   ]
  },
  {
   "cell_type": "markdown",
   "id": "1be23a53",
   "metadata": {},
   "source": [
    "## 📝 **Stakeholder Questions to Answer**"
   ]
  },
  {
   "cell_type": "markdown",
   "id": "305aa44b",
   "metadata": {
    "ExecuteTime": {
     "end_time": "2023-08-24T21:56:54.478326Z",
     "start_time": "2023-08-24T21:56:54.469350Z"
    }
   },
   "source": [
    "**ANSWER TOGETHER:**\n",
    "1) How are UFO sightings trending since 1950?\n",
    "\n",
    "\n",
    "2) How Has the Total Number of UFO's Sighted Changed Over the Years?\n",
    "\n",
    "\n",
    "3) How Has the Variance of UFO Sightings Changed Over the Years?\n",
    "\n",
    "\n",
    "4) Is there a cycle (seasonality) to UFO sightings?  How long is the season?\n",
    "\n",
    "\n",
    "5) How are different shapes of UFOs trending?"
   ]
  },
  {
   "cell_type": "markdown",
   "id": "f604c9d2",
   "metadata": {},
   "source": [
    "# Stakeholder Question 1: How are UFO sightings trending since 1950?"
   ]
  },
  {
   "cell_type": "code",
   "execution_count": null,
   "id": "22ecfbcc",
   "metadata": {
    "ExecuteTime": {
     "end_time": "2023-08-24T22:43:35.897724Z",
     "start_time": "2023-08-24T22:43:35.644075Z"
    }
   },
   "outputs": [],
   "source": [
    "## Plot the time series\n",
    "ts.plot()"
   ]
  },
  {
   "cell_type": "markdown",
   "id": "0e660d86",
   "metadata": {},
   "source": [
    "The plot is very noisy with some days having a large number of sightings.  Let's see if we can smooth it out some to better identify trends.  \n",
    "\n",
    "We will take a 30 day rolling mean."
   ]
  },
  {
   "cell_type": "code",
   "execution_count": null,
   "id": "15f12c55",
   "metadata": {
    "ExecuteTime": {
     "end_time": "2023-08-24T22:43:36.135162Z",
     "start_time": "2023-08-24T22:43:35.898720Z"
    }
   },
   "outputs": [],
   "source": [
    "## Try a rolling mean to smooth the noise\n",
    "\n"
   ]
  },
  {
   "cell_type": "markdown",
   "id": "3aeefa10",
   "metadata": {},
   "source": [
    "## 30 Day Rolling Mean vs Monthly Frequency:\n",
    "\n",
    "* 30 day rolling mean is still daily frequency, but each value is the average of the previous 30 days\n",
    "\n",
    "* Monthly frequency shows the average of EACH month (Feb. 2000, March 2000, etc.)"
   ]
  },
  {
   "cell_type": "markdown",
   "id": "a64905db",
   "metadata": {},
   "source": [
    "# Stakeholder Question 2: How Has the Total Number of UFO's Sighted Changed Over the Years?"
   ]
  },
  {
   "cell_type": "code",
   "execution_count": null,
   "id": "c910452f",
   "metadata": {
    "ExecuteTime": {
     "end_time": "2023-08-24T22:43:36.436407Z",
     "start_time": "2023-08-24T22:43:36.136160Z"
    }
   },
   "outputs": [],
   "source": [
    "## Plot a cumulative sum of sightings\n",
    "\n"
   ]
  },
  {
   "cell_type": "markdown",
   "id": "5364cca5",
   "metadata": {},
   "source": [
    "# Stakeholder Question 3: How Has the Variance of UFO Sightings Changed Over the Years?"
   ]
  },
  {
   "cell_type": "code",
   "execution_count": null,
   "id": "f29151b3",
   "metadata": {
    "ExecuteTime": {
     "end_time": "2023-08-24T22:43:36.675873Z",
     "start_time": "2023-08-24T22:43:36.438401Z"
    }
   },
   "outputs": [],
   "source": [
    "## Plot the difference to find the change in variance.  Would smoothing help?\n",
    "\n"
   ]
  },
  {
   "cell_type": "markdown",
   "id": "9d12eec6",
   "metadata": {},
   "source": [
    "## Question 3b:  Can we normalize that to a percentage?"
   ]
  },
  {
   "cell_type": "code",
   "execution_count": null,
   "id": "5741bb63",
   "metadata": {
    "ExecuteTime": {
     "end_time": "2023-08-24T22:43:36.911259Z",
     "start_time": "2023-08-24T22:43:36.677910Z"
    }
   },
   "outputs": [],
   "source": [
    "## Plot percentage change instead of just raw difference\n",
    "\n"
   ]
  },
  {
   "cell_type": "markdown",
   "id": "9813d2b0",
   "metadata": {},
   "source": [
    "### Reflection Question: Why are these plots so different?"
   ]
  },
  {
   "cell_type": "markdown",
   "id": "f954e629",
   "metadata": {
    "ExecuteTime": {
     "end_time": "2023-08-24T21:17:01.532641Z",
     "start_time": "2023-08-24T21:17:01.511725Z"
    }
   },
   "source": [
    "# Stakeholder question 4: Is there a cycle (seasonality) to UFO sightings?"
   ]
  },
  {
   "cell_type": "code",
   "execution_count": null,
   "id": "c03b0743",
   "metadata": {
    "ExecuteTime": {
     "end_time": "2023-08-24T22:43:36.927216Z",
     "start_time": "2023-08-24T22:43:36.912257Z"
    }
   },
   "outputs": [],
   "source": [
    "from statsmodels.tsa.seasonal import seasonal_decompose"
   ]
  },
  {
   "cell_type": "code",
   "execution_count": null,
   "id": "9be9874a",
   "metadata": {
    "ExecuteTime": {
     "end_time": "2023-08-24T22:43:37.988377Z",
     "start_time": "2023-08-24T22:43:36.928213Z"
    }
   },
   "outputs": [],
   "source": [
    "## Try seasonal decompose on the time series to find seasonality\n",
    "\n"
   ]
  },
  {
   "cell_type": "markdown",
   "id": "2fad8460",
   "metadata": {},
   "source": [
    "## Exploring Seasonality\n",
    "\n",
    "The above plot is not very informative.  The seasons are probably too close together to differentiate.  \n",
    "\n",
    "We could try:\n",
    "\n",
    "1. Zooming in to a single year or month\n",
    "2. Downsampling our data to weeks, months, or years"
   ]
  },
  {
   "cell_type": "markdown",
   "id": "6d63c31d",
   "metadata": {},
   "source": [
    "## Zooming In:"
   ]
  },
  {
   "cell_type": "code",
   "execution_count": null,
   "id": "23329a70",
   "metadata": {
    "ExecuteTime": {
     "end_time": "2023-08-24T22:43:38.351406Z",
     "start_time": "2023-08-24T22:43:37.989374Z"
    }
   },
   "outputs": [],
   "source": [
    "## Zoom in to 1 year\n",
    "\n"
   ]
  },
  {
   "cell_type": "code",
   "execution_count": null,
   "id": "faf084cc",
   "metadata": {
    "ExecuteTime": {
     "end_time": "2023-08-24T22:43:38.570895Z",
     "start_time": "2023-08-24T22:43:38.352403Z"
    }
   },
   "outputs": [],
   "source": [
    "## Zoom in to one month\n",
    "\n"
   ]
  },
  {
   "cell_type": "code",
   "execution_count": null,
   "id": "75e2099c",
   "metadata": {
    "ExecuteTime": {
     "end_time": "2023-08-24T22:43:38.586853Z",
     "start_time": "2023-08-24T22:43:38.572862Z"
    }
   },
   "outputs": [],
   "source": [
    "## Check the days of the week\n",
    "\n"
   ]
  },
  {
   "cell_type": "code",
   "execution_count": null,
   "id": "b1002dbb",
   "metadata": {
    "ExecuteTime": {
     "end_time": "2023-08-24T22:43:38.901982Z",
     "start_time": "2023-08-24T22:43:38.588820Z"
    }
   },
   "outputs": [],
   "source": [
    "## Plot the seasonal series again with day names as the xticks\n",
    "\n",
    "\n",
    "# Change the xtick labels to the days of the week, rotate them 90 degrees\n",
    "\n"
   ]
  },
  {
   "cell_type": "markdown",
   "id": "f4fc3633",
   "metadata": {},
   "source": [
    "### What is the magnitude of difference at weekly seasonality?"
   ]
  },
  {
   "cell_type": "markdown",
   "id": "ea5bd7f7",
   "metadata": {},
   "source": [
    "## Downsampling (Monthly)"
   ]
  },
  {
   "cell_type": "code",
   "execution_count": null,
   "id": "f774bdf6",
   "metadata": {
    "ExecuteTime": {
     "end_time": "2023-08-24T22:43:39.249131Z",
     "start_time": "2023-08-24T22:43:38.903976Z"
    }
   },
   "outputs": [],
   "source": [
    "## Resample as monthly\n",
    "\n",
    "\n",
    "## Decompose\n",
    "\n",
    "\n",
    "## Plot seasonal element\n",
    "\n"
   ]
  },
  {
   "cell_type": "code",
   "execution_count": null,
   "id": "c0cd37c8",
   "metadata": {},
   "outputs": [],
   "source": [
    "## Zoom in to one year\n"
   ]
  },
  {
   "cell_type": "markdown",
   "id": "0f2333fb",
   "metadata": {},
   "source": [
    "### What is the magnitude of difference at yearly seasonality?"
   ]
  },
  {
   "cell_type": "markdown",
   "id": "89e4914e",
   "metadata": {},
   "source": [
    "# Stakeholder Question 5: How are different shapes of UFOs trending?"
   ]
  },
  {
   "cell_type": "code",
   "execution_count": null,
   "id": "4fba6bd6",
   "metadata": {
    "ExecuteTime": {
     "end_time": "2023-08-24T22:43:39.265061Z",
     "start_time": "2023-08-24T22:43:39.250135Z"
    }
   },
   "outputs": [],
   "source": [
    "## Recheck the ufo_ts dataframe so we can pull out the shapes\n",
    "\n",
    "\n"
   ]
  },
  {
   "cell_type": "code",
   "execution_count": null,
   "id": "d7b870d2",
   "metadata": {
    "ExecuteTime": {
     "end_time": "2023-08-24T22:43:39.549535Z",
     "start_time": "2023-08-24T22:43:39.266058Z"
    }
   },
   "outputs": [],
   "source": [
    "## Group by shape, resample to monthly, and aggregate by size\n",
    "\n"
   ]
  },
  {
   "cell_type": "code",
   "execution_count": null,
   "id": "2693bc40",
   "metadata": {
    "ExecuteTime": {
     "end_time": "2023-08-24T22:43:39.579456Z",
     "start_time": "2023-08-24T22:43:39.551501Z"
    }
   },
   "outputs": [],
   "source": [
    "## Unstack the shapes\n",
    "\n"
   ]
  },
  {
   "cell_type": "code",
   "execution_count": null,
   "id": "f75f68c3",
   "metadata": {
    "ExecuteTime": {
     "end_time": "2023-08-24T22:43:39.595384Z",
     "start_time": "2023-08-24T22:43:39.584414Z"
    }
   },
   "outputs": [],
   "source": [
    "## slice out just data from after 1950\n",
    "\n"
   ]
  },
  {
   "cell_type": "code",
   "execution_count": null,
   "id": "8c0a4ce0",
   "metadata": {
    "ExecuteTime": {
     "end_time": "2023-08-24T22:43:40.273498Z",
     "start_time": "2023-08-24T22:43:39.596382Z"
    }
   },
   "outputs": [],
   "source": [
    "## Plot the shape time series\n",
    "\n"
   ]
  },
  {
   "cell_type": "code",
   "execution_count": null,
   "id": "b9e03874",
   "metadata": {
    "ExecuteTime": {
     "end_time": "2023-08-24T22:43:44.228892Z",
     "start_time": "2023-08-24T22:43:40.275487Z"
    }
   },
   "outputs": [],
   "source": [
    "## Plot again, but with subplots = True\n",
    "## Set sharey and sharex to False, choose a layout and try figure size (8,30)\n",
    "\n",
    "\n",
    "\n",
    "## Set the figure to a tight layout to prevent overlapping labels\n",
    "\n"
   ]
  },
  {
   "cell_type": "markdown",
   "id": "7fce3044",
   "metadata": {},
   "source": [
    "## 🏓**Breakout Rooms: Answering Stakeholder Questions**"
   ]
  },
  {
   "cell_type": "markdown",
   "id": "01a28ab8",
   "metadata": {},
   "source": [
    "**Choose 1-2 of the remaining questions and work in breakout rooms to answer them:**\n",
    "- 6) What holiday has the most UFO sightings?\n",
    "- 7) What day of the week has the highest reported sightings?\n",
    "- 8) At what time of day (hour) do most sightings occur?\n",
    "- 9) Which US state has the most sightings?\n",
    "- 10) Which country had the largest proportion of sightings for the year 2000?\n"
   ]
  },
  {
   "cell_type": "code",
   "execution_count": null,
   "id": "0d9d468d",
   "metadata": {
    "ExecuteTime": {
     "end_time": "2023-08-24T22:44:29.730714Z",
     "start_time": "2023-08-24T22:44:29.710794Z"
    }
   },
   "outputs": [],
   "source": [
    "## Make a copy of ufo_ts to play around with\n",
    "eda_df = ufo_ts.copy()"
   ]
  },
  {
   "cell_type": "markdown",
   "id": "2d64c5f6",
   "metadata": {},
   "source": [
    "### 5) Which US holiday has the largest number of sightings?"
   ]
  },
  {
   "cell_type": "markdown",
   "id": "100422b2",
   "metadata": {},
   "source": [
    "#### Feature Engineering: Holidays"
   ]
  },
  {
   "cell_type": "code",
   "execution_count": null,
   "id": "0e80106c",
   "metadata": {
    "ExecuteTime": {
     "end_time": "2023-08-24T22:44:29.745674Z",
     "start_time": "2023-08-24T22:44:29.732709Z"
    }
   },
   "outputs": [],
   "source": [
    "# !pip install holidays\n",
    "import holidays\n",
    "import datetime as dt\n",
    "from holidays import country_holidays"
   ]
  },
  {
   "cell_type": "code",
   "execution_count": null,
   "id": "53a4ed3d",
   "metadata": {
    "ExecuteTime": {
     "end_time": "2023-08-24T22:44:29.761631Z",
     "start_time": "2023-08-24T22:44:29.747668Z"
    }
   },
   "outputs": [],
   "source": [
    "## Create an instance of the US country holidays.\n",
    "\n"
   ]
  },
  {
   "cell_type": "code",
   "execution_count": null,
   "id": "9217da70",
   "metadata": {
    "ExecuteTime": {
     "end_time": "2023-08-24T22:44:29.776591Z",
     "start_time": "2023-08-24T22:44:29.763626Z"
    }
   },
   "outputs": [],
   "source": [
    "## create a test holiday \n",
    "\n"
   ]
  },
  {
   "cell_type": "code",
   "execution_count": null,
   "id": "0f90b9a8",
   "metadata": {
    "ExecuteTime": {
     "end_time": "2023-08-24T22:44:29.791312Z",
     "start_time": "2023-08-24T22:44:29.777589Z"
    }
   },
   "outputs": [],
   "source": [
    "## test the api \n",
    "\n"
   ]
  },
  {
   "cell_type": "code",
   "execution_count": null,
   "id": "6788f0d6",
   "metadata": {
    "ExecuteTime": {
     "end_time": "2023-08-24T22:44:46.835523Z",
     "start_time": "2023-08-24T22:44:46.706840Z"
    }
   },
   "outputs": [],
   "source": [
    "## Saving both holidays as a column\n",
    "\n"
   ]
  },
  {
   "cell_type": "code",
   "execution_count": null,
   "id": "fd53d3c3",
   "metadata": {
    "ExecuteTime": {
     "end_time": "2023-08-24T22:44:52.283862Z",
     "start_time": "2023-08-24T22:44:52.262918Z"
    },
    "scrolled": true
   },
   "outputs": [],
   "source": [
    "## Show unique holidays in the dataset\n",
    "\n"
   ]
  },
  {
   "cell_type": "markdown",
   "id": "cb80be24",
   "metadata": {},
   "source": [
    "#### Answer to which holiday has most sightings:"
   ]
  },
  {
   "cell_type": "code",
   "execution_count": null,
   "id": "4ed27cd6",
   "metadata": {
    "ExecuteTime": {
     "end_time": "2023-08-24T22:44:52.298821Z",
     "start_time": "2023-08-24T22:44:52.285885Z"
    }
   },
   "outputs": [],
   "source": [
    "## Value counts of holidas\n",
    "\n"
   ]
  },
  {
   "cell_type": "code",
   "execution_count": null,
   "id": "453403a9",
   "metadata": {
    "ExecuteTime": {
     "end_time": "2023-08-24T22:44:52.531503Z",
     "start_time": "2023-08-24T22:44:52.299819Z"
    }
   },
   "outputs": [],
   "source": [
    "## Countplot of holidays\n",
    "\n"
   ]
  },
  {
   "cell_type": "markdown",
   "id": "06e7e78a",
   "metadata": {},
   "source": [
    "#### Wait...when did that movie come out?"
   ]
  },
  {
   "cell_type": "code",
   "execution_count": null,
   "id": "85ceca86",
   "metadata": {
    "ExecuteTime": {
     "end_time": "2023-08-24T22:44:52.547559Z",
     "start_time": "2023-08-24T22:44:52.533469Z"
    }
   },
   "outputs": [],
   "source": [
    "release_date= '1997-07-03'"
   ]
  },
  {
   "cell_type": "code",
   "execution_count": null,
   "id": "eb00ce8c",
   "metadata": {
    "ExecuteTime": {
     "end_time": "2023-08-24T22:44:52.830774Z",
     "start_time": "2023-08-24T22:44:52.548557Z"
    }
   },
   "outputs": [],
   "source": [
    "## Plot the # of sightings over time and annotate the release date\n",
    "\n",
    "## Create vertical line at '1997-05-26'\n",
    "\n",
    "\n",
    "\n",
    "## Include a legend\n",
    "\n"
   ]
  },
  {
   "cell_type": "markdown",
   "id": "1c33f59e",
   "metadata": {},
   "source": [
    "### 6) What day of the week has the highest reported sightings?"
   ]
  },
  {
   "cell_type": "code",
   "execution_count": null,
   "id": "fb413b84",
   "metadata": {
    "ExecuteTime": {
     "end_time": "2023-08-24T22:44:52.862689Z",
     "start_time": "2023-08-24T22:44:52.831782Z"
    }
   },
   "outputs": [],
   "source": [
    "## create a column of day of the week names\n",
    "\n"
   ]
  },
  {
   "cell_type": "code",
   "execution_count": null,
   "id": "1253d143",
   "metadata": {
    "ExecuteTime": {
     "end_time": "2023-08-24T22:44:52.878646Z",
     "start_time": "2023-08-24T22:44:52.863686Z"
    }
   },
   "outputs": [],
   "source": [
    "## Save the value counts of days of the week\n",
    "\n",
    "## Create a list of the correct order of the days of the week\n",
    "day_order = ['Monday','Tuesday','Wednesday','Thursday','Friday','Saturday','Sunday']\n",
    "## Reorder the days of the week using .loc\n",
    "\n",
    "\n"
   ]
  },
  {
   "cell_type": "code",
   "execution_count": null,
   "id": "f21c7d50",
   "metadata": {
    "ExecuteTime": {
     "end_time": "2023-08-24T22:44:53.034257Z",
     "start_time": "2023-08-24T22:44:52.879643Z"
    }
   },
   "outputs": [],
   "source": [
    "## Bar plot of sighting by week day\n",
    "\n"
   ]
  },
  {
   "cell_type": "markdown",
   "id": "ed784b2e",
   "metadata": {},
   "source": [
    "### 7) At what time of day (hour) do most sightings occur?"
   ]
  },
  {
   "cell_type": "code",
   "execution_count": null,
   "id": "5cb1033a",
   "metadata": {
    "ExecuteTime": {
     "end_time": "2023-08-24T22:44:53.050298Z",
     "start_time": "2023-08-24T22:44:53.035255Z"
    }
   },
   "outputs": [],
   "source": [
    "## Add an 'hour' column to the eda_df\n",
    "\n"
   ]
  },
  {
   "cell_type": "code",
   "execution_count": null,
   "id": "3c5a30bf",
   "metadata": {
    "ExecuteTime": {
     "end_time": "2023-08-24T22:44:53.066224Z",
     "start_time": "2023-08-24T22:44:53.053259Z"
    }
   },
   "outputs": [],
   "source": [
    "## Get the value counts and sort the index (by hour)\n",
    "\n"
   ]
  },
  {
   "cell_type": "code",
   "execution_count": null,
   "id": "34e9cfa9",
   "metadata": {
    "ExecuteTime": {
     "end_time": "2023-08-24T22:47:36.749060Z",
     "start_time": "2023-08-24T22:47:36.522686Z"
    }
   },
   "outputs": [],
   "source": [
    "## Bar plot of hours of the day and sightings\n",
    "\n"
   ]
  },
  {
   "cell_type": "markdown",
   "id": "fc39fc06",
   "metadata": {},
   "source": [
    "### 8) Which US state has the most sightings?"
   ]
  },
  {
   "cell_type": "code",
   "execution_count": null,
   "id": "1bf0e662",
   "metadata": {
    "ExecuteTime": {
     "end_time": "2023-08-24T22:44:53.671884Z",
     "start_time": "2023-08-24T22:44:53.208121Z"
    }
   },
   "outputs": [],
   "source": [
    "## Plot sightings by state\n",
    "\n"
   ]
  },
  {
   "cell_type": "markdown",
   "id": "67e5c3e7",
   "metadata": {},
   "source": [
    "### 9) Which country had the largest proportion of sightings for the year 2000?"
   ]
  },
  {
   "cell_type": "code",
   "execution_count": null,
   "id": "273cd18d",
   "metadata": {
    "ExecuteTime": {
     "end_time": "2023-08-24T22:44:53.703512Z",
     "start_time": "2023-08-24T22:44:53.672544Z"
    }
   },
   "outputs": [],
   "source": [
    "## Plot sightings by country\n",
    "\n"
   ]
  },
  {
   "cell_type": "markdown",
   "id": "2a91207f",
   "metadata": {},
   "source": [
    "# Bonus: Plotly Express"
   ]
  },
  {
   "cell_type": "code",
   "execution_count": null,
   "id": "9be49b30",
   "metadata": {
    "ExecuteTime": {
     "end_time": "2023-08-24T22:44:53.843996Z",
     "start_time": "2023-08-24T22:44:53.704480Z"
    }
   },
   "outputs": [],
   "source": [
    "import plotly.express as px\n",
    "import plotly.io as pio\n",
    "pio.templates"
   ]
  },
  {
   "cell_type": "markdown",
   "id": "64a549d0",
   "metadata": {},
   "source": [
    "### Map Over Time"
   ]
  },
  {
   "cell_type": "code",
   "execution_count": null,
   "id": "20302efb",
   "metadata": {
    "ExecuteTime": {
     "end_time": "2023-08-24T22:45:27.262887Z",
     "start_time": "2023-08-24T22:45:27.241943Z"
    }
   },
   "outputs": [],
   "source": [
    "eda_df.columns"
   ]
  },
  {
   "cell_type": "code",
   "execution_count": null,
   "id": "8c2af13b",
   "metadata": {
    "ExecuteTime": {
     "end_time": "2023-08-24T22:46:57.539358Z",
     "start_time": "2023-08-24T22:46:57.506465Z"
    }
   },
   "outputs": [],
   "source": [
    "eda_df['year'] = eda_df.index.year\n",
    "eda_df['decade'] = eda_df['year'] - eda_df['year'] % 10\n",
    "eda_df = eda_df.sort_values('decade')"
   ]
  },
  {
   "cell_type": "code",
   "execution_count": null,
   "id": "e77ff3b7",
   "metadata": {
    "ExecuteTime": {
     "end_time": "2023-08-24T22:46:58.254287Z",
     "start_time": "2023-08-24T22:46:58.227332Z"
    }
   },
   "outputs": [],
   "source": [
    "# let's use coerce - 1 row is fine to lose\n",
    "eda_df['latitude'] = pd.to_numeric(eda_df['latitude'], errors='coerce')\n",
    "eda_df"
   ]
  },
  {
   "cell_type": "code",
   "execution_count": null,
   "id": "a8ea423c",
   "metadata": {
    "ExecuteTime": {
     "end_time": "2023-08-24T22:46:59.049143Z",
     "start_time": "2023-08-24T22:46:58.955468Z"
    }
   },
   "outputs": [],
   "source": [
    "try:\n",
    "    px.scatter_geo(data_frame=eda_df, lat='latitude',lon='longitude', animation_frame=\"decade\")\n",
    "except Exception as e:\n",
    "    display(e)"
   ]
  },
  {
   "cell_type": "code",
   "execution_count": null,
   "id": "cf248b2c",
   "metadata": {
    "ExecuteTime": {
     "end_time": "2023-08-24T22:46:59.624783Z",
     "start_time": "2023-08-24T22:46:59.602842Z"
    }
   },
   "outputs": [],
   "source": [
    "eda_df.columns = eda_df.columns.str.strip()\n",
    "eda_df"
   ]
  },
  {
   "cell_type": "code",
   "execution_count": null,
   "id": "114f1d98",
   "metadata": {
    "ExecuteTime": {
     "end_time": "2023-08-24T22:47:00.549576Z",
     "start_time": "2023-08-24T22:47:00.210460Z"
    }
   },
   "outputs": [],
   "source": [
    "import plotly.express as px\n",
    "px.scatter_geo(data_frame=eda_df, lat='latitude',lon='longitude', animation_frame=\"decade\",\n",
    "              template='ggplot2')"
   ]
  },
  {
   "cell_type": "code",
   "execution_count": null,
   "id": "32aafc1d",
   "metadata": {},
   "outputs": [],
   "source": []
  },
  {
   "cell_type": "code",
   "execution_count": null,
   "id": "9e364667",
   "metadata": {},
   "outputs": [],
   "source": []
  }
 ],
 "metadata": {
  "kernelspec": {
   "display_name": "Python (dojo-env)",
   "language": "python",
   "name": "dojo-env"
  },
  "language_info": {
   "codemirror_mode": {
    "name": "ipython",
    "version": 3
   },
   "file_extension": ".py",
   "mimetype": "text/x-python",
   "name": "python",
   "nbconvert_exporter": "python",
   "pygments_lexer": "ipython3",
   "version": "3.10.10"
  },
  "toc": {
   "base_numbering": 1,
   "nav_menu": {},
   "number_sections": false,
   "sideBar": true,
   "skip_h1_title": false,
   "title_cell": "Table of Contents",
   "title_sidebar": "Contents",
   "toc_cell": false,
   "toc_position": {
    "height": "calc(100% - 180px)",
    "left": "10px",
    "top": "150px",
    "width": "409.586px"
   },
   "toc_section_display": true,
   "toc_window_display": false
  },
  "widgets": {
   "application/vnd.jupyter.widget-state+json": {
    "state": {},
    "version_major": 2,
    "version_minor": 0
   }
  }
 },
 "nbformat": 4,
 "nbformat_minor": 5
}
